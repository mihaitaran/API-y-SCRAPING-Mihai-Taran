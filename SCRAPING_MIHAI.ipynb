{
 "cells": [
  {
   "cell_type": "markdown",
   "id": "200c2e7b-f8dd-48d8-abb7-2d0e5b0c8dac",
   "metadata": {},
   "source": [
    "<H1>WEB SCRAPING lista los 40 de la semana</H1>"
   ]
  },
  {
   "cell_type": "code",
   "execution_count": 1,
   "id": "e24aafb4-6fdb-4e7d-b6c4-e4d7565fb3e2",
   "metadata": {},
   "outputs": [],
   "source": [
    "from bs4 import BeautifulSoup\n",
    "import requests"
   ]
  },
  {
   "cell_type": "code",
   "execution_count": 15,
   "id": "b27341f7-9a22-4ccf-a98c-f2050570faf1",
   "metadata": {},
   "outputs": [],
   "source": [
    "url = 'https://los40.com/lista40/'\n",
    "response = requests.get(url)\n",
    "soup = BeautifulSoup(response.content,'html.parser')"
   ]
  },
  {
   "cell_type": "markdown",
   "id": "1363b340-83ba-447c-a081-0a821eb69a84",
   "metadata": {},
   "source": [
    "Busca el nombre de la canción más popular"
   ]
  },
  {
   "cell_type": "code",
   "execution_count": 19,
   "id": "e30e1404-f11b-4660-a9ef-13fa0bc27fa5",
   "metadata": {},
   "outputs": [
    {
     "data": {
      "text/plain": [
       "'My universe'"
      ]
     },
     "execution_count": 19,
     "metadata": {},
     "output_type": "execute_result"
    }
   ],
   "source": [
    "soup.find(class_='info_grupo').p.text"
   ]
  },
  {
   "cell_type": "markdown",
   "id": "08022d0d-cec2-4880-80de-2a47fcc9ed59",
   "metadata": {},
   "source": [
    "Busca el nombre de los autores de la última canción de la lista"
   ]
  },
  {
   "cell_type": "code",
   "execution_count": 42,
   "id": "f75ef0d2-734a-40aa-b16c-fe7eb8450982",
   "metadata": {},
   "outputs": [
    {
     "data": {
      "text/plain": [
       "'Ana Mena;Rocco Hunt'"
      ]
     },
     "execution_count": 42,
     "metadata": {},
     "output_type": "execute_result"
    }
   ],
   "source": [
    "soup.find_all(class_='info_grupo')[-1].h4.text"
   ]
  },
  {
   "cell_type": "markdown",
   "id": "9455fe51-2bfa-4776-8cb2-50830a96b9db",
   "metadata": {},
   "source": [
    "Busca la primera entrada de lo mas visto"
   ]
  },
  {
   "cell_type": "code",
   "execution_count": 43,
   "id": "f9546b53-a783-40bf-b07e-f1ad7d8bbcb8",
   "metadata": {},
   "outputs": [
    {
     "data": {
      "text/plain": [
       "'Así pueden los padres solicitar las nuevas ayudas de 100 euros por hijo'"
      ]
     },
     "execution_count": 43,
     "metadata": {},
     "output_type": "execute_result"
    }
   ],
   "source": [
    "soup.find(class_='parrafo_lista_lo_mas_visto').text"
   ]
  },
  {
   "cell_type": "markdown",
   "id": "cbc3aa6a-c605-4912-b1f4-defdef270e7d",
   "metadata": {},
   "source": [
    "Consigue la url de los programas de los 40"
   ]
  },
  {
   "cell_type": "code",
   "execution_count": 51,
   "id": "70f4badb-ea5a-4210-af91-cf80e92beb6c",
   "metadata": {},
   "outputs": [
    {
     "data": {
      "text/plain": [
       "'https://play.los40.com/programa/del_40_al_1/'"
      ]
     },
     "execution_count": 51,
     "metadata": {},
     "output_type": "execute_result"
    }
   ],
   "source": [
    "soup.find(class_='los40-icon-live').get(\"href\")"
   ]
  },
  {
   "cell_type": "markdown",
   "id": "c1ab310c-dd9e-4c9d-8784-a9997662da05",
   "metadata": {},
   "source": [
    "Consigue todas las entradas de lo más visto en los 40"
   ]
  },
  {
   "cell_type": "code",
   "execution_count": 58,
   "id": "f5288365-04bf-482b-9f9f-cb8e43c8c082",
   "metadata": {},
   "outputs": [
    {
     "name": "stdout",
     "output_type": "stream",
     "text": [
      "Así pueden los padres solicitar las nuevas ayudas de 100 euros por hijo\n",
      "Rayden y Rigoberta Bandini parten como favoritos en Benidorm Fest según las bios de los miembros de Tinder\n",
      "¿Quién es tu favorito para ganar el Benidorm Fest e ir a Eurovisión? ¡Vota en nuestra encuesta!\n",
      "Beret emociona con la canción que dedica a su hermana fallecida: “Nunca voy a aprender a despedirme de ti”\n",
      "Ya puedes solicitar el bono joven para el alquiler de 250 euros: cómo y dónde pedir la ayuda\n",
      "Rauw Alejandro responde: ¿lanzarán él y Rosalía música juntos?\n",
      "Canciones que están marcando los éxitos de 2021\n",
      "Las canciones de reguetón que están marcando el 2021\n",
      "Booty Bounce, el vídeo de culos definitivo\n",
      "10 canciones que se convierten en las nuevas tendencias de Tiktok\n",
      "Rauw Alejandro responde: ¿lanzarán él y Rosalía música juntos?\n",
      "10 canciones que se convierten en las nuevas tendencias de Tiktok\n",
      "Crónica de Sienna en Madrid: Que la suerte le acompañe; el talento, le sobra\n",
      "Chenoa confiesa en quién piensa al cantar ‘Cuando tú vas’\n",
      "LOSFIT 40: ¿Es pesarse una buena idea para nuestro progreso de dieta y ejercicio?\n"
     ]
    }
   ],
   "source": [
    "textos = soup.find_all(class_='parrafo_lista_lo_mas_visto')\n",
    "for texto in textos:\n",
    "    print(texto.text)"
   ]
  }
 ],
 "metadata": {
  "kernelspec": {
   "display_name": "Python 3",
   "language": "python",
   "name": "python3"
  },
  "language_info": {
   "codemirror_mode": {
    "name": "ipython",
    "version": 3
   },
   "file_extension": ".py",
   "mimetype": "text/x-python",
   "name": "python",
   "nbconvert_exporter": "python",
   "pygments_lexer": "ipython3",
   "version": "3.8.8"
  }
 },
 "nbformat": 4,
 "nbformat_minor": 5
}
